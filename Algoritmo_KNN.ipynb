{
  "nbformat": 4,
  "nbformat_minor": 0,
  "metadata": {
    "colab": {
      "name": "Algoritmo KNN.ipynb",
      "version": "0.3.2",
      "provenance": [],
      "collapsed_sections": [],
      "include_colab_link": true
    }
  },
  "cells": [
    {
      "cell_type": "markdown",
      "metadata": {
        "id": "view-in-github",
        "colab_type": "text"
      },
      "source": [
        "[View in Colaboratory](https://colab.research.google.com/github/leoproject/MachineLearning/blob/master/Algoritmo_KNN.ipynb)"
      ]
    },
    {
      "metadata": {
        "id": "T6mnHW0GQexL",
        "colab_type": "text"
      },
      "cell_type": "markdown",
      "source": [
        "# Implementação do Algoritmo k-NN\n",
        "\n",
        "\n",
        "Esse notebook é a implmentação de um algoritmo de Machine Learning da disciplina de Aprendizado de Máquina do Programa de Pós-Graduação em Ciência da Computação (PROCC) do Departamento de Computação (DCOMP) da Universidade Federal de Sergipe.\n",
        "\n",
        "\n",
        "\n",
        "*   **Disciplina:**  Aprendizado de Máquina \n",
        "*   **Docente:**    Carlos Alberto Estombelo Montesco \n",
        "*   **Discentes:**\n",
        "                         Danilo Gois dos Anjos\n",
        "                         Leonardo de Jesus Silva\n",
        "                         Rafael Pereira da Silva\n",
        "\n",
        "Importando as bibliotecas em Python  \n",
        "Pandas \n",
        "\n",
        "1.   **Pandas:** BIblioteca a qual fornece ferramentas de análise de dados e estruturas de dados de alta performance .\n",
        "\n",
        "2.   **Matplotib:** Biblioteca para criação de gráficos em 2D e visualização de dados.\n",
        "\n",
        "3.  ** Sklearn: ** Biblioteca de aprendizagem de máquina. \n",
        "\n",
        "\n",
        "\n",
        "\n",
        "\n"
      ]
    },
    {
      "metadata": {
        "id": "sRhb9NzKQufp",
        "colab_type": "code",
        "colab": {}
      },
      "cell_type": "code",
      "source": [
        "import pandas as pd\n",
        "import matplotlib.pyplot as plt\n",
        "from sklearn.linear_model import LinearRegression\n",
        "from sklearn.model_selection import cross_val_score"
      ],
      "execution_count": 0,
      "outputs": []
    },
    {
      "metadata": {
        "id": "aryFU83mQ1Ud",
        "colab_type": "text"
      },
      "cell_type": "markdown",
      "source": [
        "A idéia básica do KNN é que podemos classificar uma instância desconhecida com base nas informações dos vizinhos mais próximos. Para isso, exergamos os dados como pontos marcados em um sistema cartesiano e utilizamos a distância entre pontos para identificar quais estão mais próximo. \n",
        "\n",
        "Com dados de **Homens** e **Mulheres** contendo os seguintes atributos em cada objeto da base de dados :  **Peso**, **Altura** e **Classe**. Essa fornece a informação se aquele objeto na base é **Homem** quando o valor é **1**  ou  se é **Mulher** quando o valor é **0**."
      ]
    },
    {
      "metadata": {
        "id": "powXw-g2RAZI",
        "colab_type": "code",
        "colab": {
          "base_uri": "https://localhost:8080/",
          "height": 328
        },
        "outputId": "ac201aef-c788-4d9e-e499-7178bd129e5b"
      },
      "cell_type": "code",
      "source": [
        "data = pd.read_csv(\"http://www.data2learning.com/datasets/basehomemulher.csv\", index_col=0)\n",
        "data \n"
      ],
      "execution_count": 2,
      "outputs": [
        {
          "output_type": "execute_result",
          "data": {
            "text/html": [
              "<div>\n",
              "<style scoped>\n",
              "    .dataframe tbody tr th:only-of-type {\n",
              "        vertical-align: middle;\n",
              "    }\n",
              "\n",
              "    .dataframe tbody tr th {\n",
              "        vertical-align: top;\n",
              "    }\n",
              "\n",
              "    .dataframe thead th {\n",
              "        text-align: right;\n",
              "    }\n",
              "</style>\n",
              "<table border=\"1\" class=\"dataframe\">\n",
              "  <thead>\n",
              "    <tr style=\"text-align: right;\">\n",
              "      <th></th>\n",
              "      <th>peso</th>\n",
              "      <th>altura</th>\n",
              "      <th>classe</th>\n",
              "    </tr>\n",
              "  </thead>\n",
              "  <tbody>\n",
              "    <tr>\n",
              "      <th>1</th>\n",
              "      <td>50</td>\n",
              "      <td>1.60</td>\n",
              "      <td>0</td>\n",
              "    </tr>\n",
              "    <tr>\n",
              "      <th>2</th>\n",
              "      <td>53</td>\n",
              "      <td>1.65</td>\n",
              "      <td>0</td>\n",
              "    </tr>\n",
              "    <tr>\n",
              "      <th>3</th>\n",
              "      <td>60</td>\n",
              "      <td>1.58</td>\n",
              "      <td>0</td>\n",
              "    </tr>\n",
              "    <tr>\n",
              "      <th>4</th>\n",
              "      <td>62</td>\n",
              "      <td>1.62</td>\n",
              "      <td>0</td>\n",
              "    </tr>\n",
              "    <tr>\n",
              "      <th>5</th>\n",
              "      <td>91</td>\n",
              "      <td>1.75</td>\n",
              "      <td>1</td>\n",
              "    </tr>\n",
              "    <tr>\n",
              "      <th>6</th>\n",
              "      <td>102</td>\n",
              "      <td>1.85</td>\n",
              "      <td>1</td>\n",
              "    </tr>\n",
              "    <tr>\n",
              "      <th>7</th>\n",
              "      <td>105</td>\n",
              "      <td>1.82</td>\n",
              "      <td>1</td>\n",
              "    </tr>\n",
              "    <tr>\n",
              "      <th>8</th>\n",
              "      <td>103</td>\n",
              "      <td>1.77</td>\n",
              "      <td>1</td>\n",
              "    </tr>\n",
              "    <tr>\n",
              "      <th>9</th>\n",
              "      <td>87</td>\n",
              "      <td>1.73</td>\n",
              "      <td>1</td>\n",
              "    </tr>\n",
              "  </tbody>\n",
              "</table>\n",
              "</div>"
            ],
            "text/plain": [
              "   peso  altura  classe\n",
              "1    50    1.60       0\n",
              "2    53    1.65       0\n",
              "3    60    1.58       0\n",
              "4    62    1.62       0\n",
              "5    91    1.75       1\n",
              "6   102    1.85       1\n",
              "7   105    1.82       1\n",
              "8   103    1.77       1\n",
              "9    87    1.73       1"
            ]
          },
          "metadata": {
            "tags": []
          },
          "execution_count": 2
        }
      ]
    },
    {
      "metadata": {
        "id": "5l5TCEEwRB6l",
        "colab_type": "text"
      },
      "cell_type": "markdown",
      "source": [
        "Desta forma platamos os cada objeto, ou seja linha da tabela acima, em um gráfico no plano cartesiano referente as mulheres ( rosa ) e homens ( azul ) presente na base de dados de treinamento."
      ]
    },
    {
      "metadata": {
        "id": "xd5qza8MRN_8",
        "colab_type": "code",
        "colab": {
          "base_uri": "https://localhost:8080/",
          "height": 378
        },
        "outputId": "8826a55f-c7eb-4fdc-dcc0-9be01a680562"
      },
      "cell_type": "code",
      "source": [
        "colors = {0:'#ff007f', 1:'#00008b'}\n",
        "\n",
        "# Plotagem dos valores da base de treinamento\n",
        "data.plot(kind='scatter', x='peso', y='altura',c=data['classe'].apply(lambda x: colors[x]))"
      ],
      "execution_count": 3,
      "outputs": [
        {
          "output_type": "execute_result",
          "data": {
            "text/plain": [
              "<matplotlib.axes._subplots.AxesSubplot at 0x7f33aabeb590>"
            ]
          },
          "metadata": {
            "tags": []
          },
          "execution_count": 3
        },
        {
          "output_type": "display_data",
          "data": {
            "image/png": "[encoded data removed]",
            "text/plain": [
              "<matplotlib.figure.Figure at 0x7f33ab055690>"
            ]
          },
          "metadata": {
            "tags": []
          }
        }
      ]
    },
    {
      "metadata": {
        "id": "SxTCMoQ9S3ad",
        "colab_type": "text"
      },
      "cell_type": "markdown",
      "source": [
        "Uma vez platado os dados da base de dados. Inserimos um novo objeto com intuito de conseguir a qual classe pertence esse novo objeto.\n",
        "\n",
        "Dessa forma insere-se um dado individuo X com respectivos dados **Peso 77 kgs**  e **Altura 1.68**  para saber qual classe esse individuo pertence ? \n",
        "\n",
        "Marcamos um **X**  preto no plano cartesiano!!!\n",
        "\n"
      ]
    },
    {
      "metadata": {
        "id": "mZDVzhBwTdWj",
        "colab_type": "code",
        "colab": {
          "base_uri": "https://localhost:8080/",
          "height": 378
        },
        "outputId": "61c5a1a7-f112-4f92-a038-176e7cfa460f"
      },
      "cell_type": "code",
      "source": [
        "colors = {0:'#ff007f', 1:'#00008b'}\n",
        "pesoX = 77\n",
        "altX = 1.70\n",
        "# Plotagem dos valores da base de treinamento\n",
        "data.plot(kind='scatter', x='peso', y='altura',c=data['classe'].apply(lambda x: colors[x])) \n",
        "plt.plot(pesoX, altX, 'X', c='#000000')"
      ],
      "execution_count": 5,
      "outputs": [
        {
          "output_type": "execute_result",
          "data": {
            "text/plain": [
              "[<matplotlib.lines.Line2D at 0x7f33a82f5290>]"
            ]
          },
          "metadata": {
            "tags": []
          },
          "execution_count": 5
        },
        {
          "output_type": "display_data",
          "data": {
            "image/png": "[encoded data removed]",
            "text/plain": [
              "<matplotlib.figure.Figure at 0x7f33aab83c90>"
            ]
          },
          "metadata": {
            "tags": []
          }
        }
      ]
    },
    {
      "metadata": {
        "id": "Ap3hGbZqU7Vv",
        "colab_type": "text"
      },
      "cell_type": "markdown",
      "source": [
        "O algoritmo k-NN entra em ação nesse exato momento, ele tem como principal função nesse caso ver quais pontos estão mais próximo do **X**  e desta forma classificar se ele é homem ou mulher apartir da moda dos pontos vizinhos. \n",
        "\n",
        "\n",
        "\n",
        "Para determinar os pontos mais próximos, os pontos vizinhos, utiliza-se a distância euclidiana para verificar qual ponto está mais próximo do **X**. A distância entre dois pontos pode ser calculada de diversas formas. A biblioteca do ScikitLearn lista [uma série de métricas de distância](http://scikit-learn.org/stable/modules/generated/sklearn.neighbors.DistanceMetric.html) que podem ser usadas. Vamos considerar um novo ponto e simular o que o algoritmo do KNN faz. e implementar o método o qual calcula a distância euclidiana.\n",
        "\n",
        "\n",
        "\n",
        "No entanto, vamos trabalhar com o ponto {'altura': 1.68, 'peso':77} e calcular sua distância para todos os demais pontos. No exemplo vamos usar a distância euclideana: $\\sqrt{\\sum{(x_1 - x_2)^2 + (y_1 - y_2)^2}}$. Para simplificar, vamos utilizar nossa própria implementação da distância euclideana."
      ]
    },
    {
      "metadata": {
        "id": "DgZkNikIVcSJ",
        "colab_type": "code",
        "colab": {
          "base_uri": "https://localhost:8080/",
          "height": 170
        },
        "outputId": "2f76f488-617f-4ee8-8b41-2796f9f7d021"
      },
      "cell_type": "code",
      "source": [
        "import math\n",
        "\n",
        "# Calcula a distância euclideana de dois pontos\n",
        "def euclideanDistance(instance1, instance2, length):\n",
        "    distance = 0\n",
        "    for x in range(length):\n",
        "        distance += pow((instance1[x] - instance2[x]), 2)\n",
        "\n",
        "    return math.sqrt(distance)\n",
        "\n",
        "# Só para visualização: converte os valores para labels em String\n",
        "def convert_label(value):\n",
        "    if value == 0.0: return 'Mulher'\n",
        "    else: return 'Homem'\n",
        "    \n",
        "dicHM ={}\n",
        "\n",
        "\n",
        "# 0 = mulher , 1 = homem\n",
        "for index, row in data.iterrows():\n",
        "    print(convert_label(row['classe']), '%0.2f' % euclideanDistance([row['peso'], row['altura']],[77, 1.68], 2))\n",
        "    # Colando os valores das distâncias em um dicionário\n",
        "    valor = '%0.2f' %(euclideanDistance([row['peso'], row['altura']],[77, 1.68], 2))\n",
        "    dicHM[float(valor)]= convert_label(row['classe'])"
      ],
      "execution_count": 6,
      "outputs": [
        {
          "output_type": "stream",
          "text": [
            "('Mulher', '27.00')\n",
            "('Mulher', '24.00')\n",
            "('Mulher', '17.00')\n",
            "('Mulher', '15.00')\n",
            "('Homem', '14.00')\n",
            "('Homem', '25.00')\n",
            "('Homem', '28.00')\n",
            "('Homem', '26.00')\n",
            "('Homem', '10.00')\n"
          ],
          "name": "stdout"
        }
      ]
    },
    {
      "metadata": {
        "id": "6lMKl-ppiDIw",
        "colab_type": "text"
      },
      "cell_type": "markdown",
      "source": [
        "Uma vez calculada a distância euclidiana do individuo X de todos os pontos de treinamento, ordena as distâncias dos pontos em ordem crescente."
      ]
    },
    {
      "metadata": {
        "id": "LR9ya_FCiWqT",
        "colab_type": "code",
        "colab": {
          "base_uri": "https://localhost:8080/",
          "height": 54
        },
        "outputId": "2a67c296-113f-40ad-cf6a-7eff0e358b52"
      },
      "cell_type": "code",
      "source": [
        "sorted(dicHM)\n",
        "print dicHM.items()"
      ],
      "execution_count": 7,
      "outputs": [
        {
          "output_type": "stream",
          "text": [
            "[(10.0, 'Homem'), (14.0, 'Homem'), (15.0, 'Mulher'), (17.0, 'Mulher'), (24.0, 'Mulher'), (25.0, 'Homem'), (26.0, 'Homem'), (27.0, 'Mulher'), (28.0, 'Homem')]\n"
          ],
          "name": "stdout"
        }
      ]
    },
    {
      "metadata": {
        "id": "K9iOHW_rX_Jh",
        "colab_type": "text"
      },
      "cell_type": "markdown",
      "source": [
        "Uma vez ordenado os valores dos pontos de distância, o valor de K determina o número  de pontos os quais iremos comparar com o **X** para determinar  o genero do mesmo. Suponha que o **k seja 3**. \n",
        "\n",
        "Logo o número de vizinhos será de 3 a moda entre eles definirá qual será o genero de **X**.\n"
      ]
    },
    {
      "metadata": {
        "id": "XACHynzJBmRJ",
        "colab_type": "code",
        "colab": {
          "base_uri": "https://localhost:8080/",
          "height": 136
        },
        "outputId": "6686edbd-1d15-4299-e68c-e52559c2c833"
      },
      "cell_type": "code",
      "source": [
        "valor = dicHM.values()\n",
        "distancia = dicHM.keys()\n",
        "k = input (\"Digite o numero do K que deseja:\")\n",
        "print\n",
        "h = 0\n",
        "f = 0\n",
        "for i in range(k):\n",
        "  print (distancia[i], valor[i])\n",
        "  if valor[i]==\"Homem\":\n",
        "    h = h+1\n",
        "  else :\n",
        "    f = f+1\n",
        "if f>h :\n",
        "  classe = '0'\n",
        "else:\n",
        "    classe = '1'\n"
      ],
      "execution_count": 8,
      "outputs": [
        {
          "output_type": "stream",
          "text": [
            "Digite o numero do K que deseja:5\n",
            "\n",
            "(10.0, 'Homem')\n",
            "(14.0, 'Homem')\n",
            "(15.0, 'Mulher')\n",
            "(17.0, 'Mulher')\n",
            "(24.0, 'Mulher')\n"
          ],
          "name": "stdout"
        }
      ]
    },
    {
      "metadata": {
        "id": "jMXIYFtj4dkf",
        "colab_type": "text"
      },
      "cell_type": "markdown",
      "source": [
        "Tendo em vista o resultado para k sendo 3 o **X** seria classificado como Homem.\n"
      ]
    },
    {
      "metadata": {
        "id": "1mFgwqih4myC",
        "colab_type": "code",
        "colab": {
          "base_uri": "https://localhost:8080/",
          "height": 34
        },
        "outputId": "b3e20693-cde6-4ff3-c25d-cb8c37c98082"
      },
      "cell_type": "code",
      "source": [
        "if classe == '1':\n",
        "  print ('O inviduo X é Homem pela frequência dos vizinhos')\n",
        "else:\n",
        "  print ('O inviduo X é Mulher pela frequência dos vizinhos')\n",
        " "
      ],
      "execution_count": 9,
      "outputs": [
        {
          "output_type": "stream",
          "text": [
            "O inviduo X é Mulher pela frequência dos vizinhos\n"
          ],
          "name": "stdout"
        }
      ]
    }
  ]
}