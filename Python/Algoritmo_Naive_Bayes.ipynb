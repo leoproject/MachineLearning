{
 "cells": [
  {
   "cell_type": "markdown",
   "metadata": {},
   "source": [
    "# Implementação do Algoritmo Naive Bayes\n",
    "\n",
    "Esse notebook é a implmentação de um algoritmo de Machine Learning o qual estou estudando e implementando em Python no intuito de aprimorar meus conhecimentos no assunto.\n",
    "\n",
    "\n",
    "\n",
    "*   **Disciplina:**  Machine Learning\n",
    "*   **Docente:**    Material Virtual\n",
    "*   **Discente:**\n",
    "                         Leonardo de Jesus Silva\n",
    "\n",
    "\n",
    "Importando as bibliotecas em Python  \n",
    "Pandas \n",
    "\n",
    "1.   **Pandas:** BIblioteca a qual fornece ferramentas de análise de dados e estruturas de dados de alta performance ;\n",
    "\n",
    "2.   **Matplotib:** Biblioteca para criação de gráficos em 2D e visualização de dados;\n",
    "\n",
    "3.  **Sklearn:** Biblioteca de aprendizagem de máquina;\n",
    "\n",
    "       3.1 **GaussianNB:**\n",
    "       \n",
    "       3.2 **accuracy_score:** Biblioteca para testar acurácia do modelo.\n"
   ]
  },
  {
   "cell_type": "code",
   "execution_count": 4,
   "metadata": {},
   "outputs": [],
   "source": [
    "import pandas as pd\n",
    "import matplotlib.pyplot as plt\n",
    "from sklearn.naive_bayes import GaussianNB\n",
    "from sklearn.metrics import accuracy_score"
   ]
  },
  {
   "cell_type": "code",
   "execution_count": null,
   "metadata": {},
   "outputs": [],
   "source": []
  }
 ],
 "metadata": {
  "kernelspec": {
   "display_name": "Python 3",
   "language": "python",
   "name": "python3"
  },
  "language_info": {
   "codemirror_mode": {
    "name": "ipython",
    "version": 3
   },
   "file_extension": ".py",
   "mimetype": "text/x-python",
   "name": "python",
   "nbconvert_exporter": "python",
   "pygments_lexer": "ipython3",
   "version": "3.7.1"
  }
 },
 "nbformat": 4,
 "nbformat_minor": 2
}
