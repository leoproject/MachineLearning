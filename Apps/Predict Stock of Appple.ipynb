{
 "cells": [
  {
   "cell_type": "code",
   "execution_count": 1,
   "metadata": {},
   "outputs": [
    {
     "name": "stdout",
     "output_type": "stream",
     "text": [
      "Collecting csv\n",
      "\u001b[31m  Could not find a version that satisfies the requirement csv (from versions: )\u001b[0m\n",
      "\u001b[31mNo matching distribution found for csv\u001b[0m\n",
      "Requirement already satisfied: numpy in /home/leonardo/anaconda3/lib/python3.7/site-packages (1.15.4)\n",
      "Requirement already satisfied: scikit-learn in /home/leonardo/anaconda3/lib/python3.7/site-packages (0.21.3)\n",
      "Requirement already satisfied: numpy>=1.11.0 in /home/leonardo/anaconda3/lib/python3.7/site-packages (from scikit-learn) (1.15.4)\n",
      "Requirement already satisfied: scipy>=0.17.0 in /home/leonardo/anaconda3/lib/python3.7/site-packages (from scikit-learn) (1.1.0)\n",
      "Requirement already satisfied: joblib>=0.11 in /home/leonardo/anaconda3/lib/python3.7/site-packages (from scikit-learn) (0.13.2)\n",
      "Requirement already satisfied: matplotlib in /home/leonardo/anaconda3/lib/python3.7/site-packages (3.0.2)\n",
      "Requirement already satisfied: numpy>=1.10.0 in /home/leonardo/anaconda3/lib/python3.7/site-packages (from matplotlib) (1.15.4)\n",
      "Requirement already satisfied: cycler>=0.10 in /home/leonardo/anaconda3/lib/python3.7/site-packages (from matplotlib) (0.10.0)\n",
      "Requirement already satisfied: kiwisolver>=1.0.1 in /home/leonardo/anaconda3/lib/python3.7/site-packages (from matplotlib) (1.0.1)\n",
      "Requirement already satisfied: pyparsing!=2.0.4,!=2.1.2,!=2.1.6,>=2.0.1 in /home/leonardo/anaconda3/lib/python3.7/site-packages (from matplotlib) (2.3.0)\n",
      "Requirement already satisfied: python-dateutil>=2.1 in /home/leonardo/anaconda3/lib/python3.7/site-packages (from matplotlib) (2.7.5)\n",
      "Requirement already satisfied: six in /home/leonardo/anaconda3/lib/python3.7/site-packages (from cycler>=0.10->matplotlib) (1.12.0)\n",
      "Requirement already satisfied: setuptools in /home/leonardo/anaconda3/lib/python3.7/site-packages (from kiwisolver>=1.0.1->matplotlib) (40.6.3)\n"
     ]
    }
   ],
   "source": [
    "!pip install csv\n",
    "!pip install numpy\n",
    "!pip install scikit-learn\n",
    "!pip install matplotlib"
   ]
  },
  {
   "cell_type": "code",
   "execution_count": 2,
   "metadata": {},
   "outputs": [],
   "source": [
    "import csv\n",
    "import numpy as np\n",
    "from sklearn.svm import SVR\n",
    "import matplotlib.pyplot as plt\n",
    "import matplotlib.backends.backend_tkagg"
   ]
  },
  {
   "cell_type": "code",
   "execution_count": 3,
   "metadata": {},
   "outputs": [],
   "source": [
    "dates = []\n",
    "prices = []\n",
    "\n",
    "def get_data(filename):\n",
    "    with open(filename, 'r') as csvfile:\n",
    "        csvFileReader = csv.reader(csvfile)\n",
    "        next(csvFileReader)\t# skipping column names\n",
    "        for row in csvFileReader:\n",
    "            dates.append(int(row[0].split('-')[0]))\n",
    "            prices.append(float(row[1]))\n",
    "        return"
   ]
  },
  {
   "cell_type": "code",
   "execution_count": 4,
   "metadata": {},
   "outputs": [],
   "source": [
    "def predict_price(dates, prices, x):\n",
    "    dates = np.reshape(dates,(len(dates), 1)) # converting to matrix of n X 1\n",
    "    \n",
    "    svr_lin = SVR(kernel= 'linear', C= 1e3)\n",
    "    svr_poly = SVR(kernel= 'poly', C= 1e3, degree= 2)\n",
    "    svr_rbf = SVR(kernel= 'rbf', C= 1e3, gamma= 0.1) # defining the support vector regression models\n",
    "    svr_rbf.fit(dates, prices) # fitting the data points in the models\n",
    "    svr_lin.fit(dates, prices)\n",
    "    svr_poly.fit(dates, prices)\n",
    "    \n",
    "    plt.scatter(dates, prices, color= 'black', label= 'Data') # plotting the initial datapoints \n",
    "    plt.plot(dates, svr_rbf.predict(dates), color= 'red', label= 'RBF model') # plotting the line made by the RBF kernel\n",
    "    plt.plot(dates,svr_lin.predict(dates), color= 'green', label= 'Linear model') # plotting the line made by linear kernel\n",
    "    plt.plot(dates,svr_poly.predict(dates), color= 'blue', label= 'Polynomial model') # plotting the line made by polynomial kernel\n",
    "    plt.xlabel('Date')\n",
    "    plt.ylabel('Price')\n",
    "    plt.title('Support Vector Regression')\n",
    "    plt.legend()\n",
    "    plt.show()\n",
    "    \n",
    "    return svr_rbf.predict(x)[0], svr_lin.predict(x)[0], svr_poly.predict(x)[0]"
   ]
  },
  {
   "cell_type": "code",
   "execution_count": 5,
   "metadata": {},
   "outputs": [],
   "source": [
    "get_data('aapl.csv') # calling get_data method by passing the csv file to it\n",
    "#print \"Dates- \", dates\n",
    "#print \"Prices- \", prices"
   ]
  },
  {
   "cell_type": "code",
   "execution_count": null,
   "metadata": {},
   "outputs": [],
   "source": [
    "predicted_price = predict_price(dates, prices, 29)  "
   ]
  }
 ],
 "metadata": {
  "kernelspec": {
   "display_name": "Python 3",
   "language": "python",
   "name": "python3"
  },
  "language_info": {
   "codemirror_mode": {
    "name": "ipython",
    "version": 3
   },
   "file_extension": ".py",
   "mimetype": "text/x-python",
   "name": "python",
   "nbconvert_exporter": "python",
   "pygments_lexer": "ipython3",
   "version": "3.7.1"
  }
 },
 "nbformat": 4,
 "nbformat_minor": 2
}
