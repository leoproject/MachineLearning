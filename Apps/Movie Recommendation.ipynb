{
 "cells": [
  {
   "cell_type": "code",
   "execution_count": 2,
   "metadata": {},
   "outputs": [
    {
     "name": "stdout",
     "output_type": "stream",
     "text": [
      "Requirement already satisfied: numpy in /home/leonardo/anaconda3/lib/python3.7/site-packages (1.15.4)\n",
      "Requirement already satisfied: scipy in /home/leonardo/anaconda3/lib/python3.7/site-packages (1.1.0)\n",
      "Requirement already satisfied: lightfm in /home/leonardo/anaconda3/lib/python3.7/site-packages (1.15)\n",
      "Requirement already satisfied: numpy in /home/leonardo/anaconda3/lib/python3.7/site-packages (from lightfm) (1.15.4)\n",
      "Requirement already satisfied: scipy>=0.17.0 in /home/leonardo/anaconda3/lib/python3.7/site-packages (from lightfm) (1.1.0)\n",
      "Requirement already satisfied: requests in /home/leonardo/anaconda3/lib/python3.7/site-packages (from lightfm) (2.21.0)\n",
      "Requirement already satisfied: idna<2.9,>=2.5 in /home/leonardo/anaconda3/lib/python3.7/site-packages (from requests->lightfm) (2.8)\n",
      "Requirement already satisfied: certifi>=2017.4.17 in /home/leonardo/anaconda3/lib/python3.7/site-packages (from requests->lightfm) (2018.11.29)\n",
      "Requirement already satisfied: urllib3<1.25,>=1.21.1 in /home/leonardo/anaconda3/lib/python3.7/site-packages (from requests->lightfm) (1.24.1)\n",
      "Requirement already satisfied: chardet<3.1.0,>=3.0.2 in /home/leonardo/anaconda3/lib/python3.7/site-packages (from requests->lightfm) (3.0.4)\n"
     ]
    }
   ],
   "source": [
    "!pip install numpy\n",
    "!pip install scipy\n",
    "!pip install lightfm"
   ]
  },
  {
   "cell_type": "code",
   "execution_count": 3,
   "metadata": {},
   "outputs": [],
   "source": [
    "import numpy as np\n",
    "from lightfm.datasets import fetch_movielens\n",
    "from lightfm import LightFM"
   ]
  },
  {
   "cell_type": "code",
   "execution_count": 5,
   "metadata": {},
   "outputs": [],
   "source": [
    "#fetch data and format it\n",
    "data = fetch_movielens(min_rating=4.0)"
   ]
  },
  {
   "cell_type": "code",
   "execution_count": 6,
   "metadata": {},
   "outputs": [
    {
     "name": "stdout",
     "output_type": "stream",
     "text": [
      "<943x1682 sparse matrix of type '<class 'numpy.int32'>'\n",
      "\twith 49906 stored elements in COOrdinate format>\n",
      "<943x1682 sparse matrix of type '<class 'numpy.int32'>'\n",
      "\twith 5469 stored elements in COOrdinate format>\n"
     ]
    }
   ],
   "source": [
    "#printtrainin and testing data\n",
    "print(repr(data['train']))\n",
    "print(repr(data['test']))"
   ]
  },
  {
   "cell_type": "code",
   "execution_count": 7,
   "metadata": {},
   "outputs": [],
   "source": [
    "#create model\n",
    "model =LightFM(loss='warp')\n"
   ]
  },
  {
   "cell_type": "code",
   "execution_count": 9,
   "metadata": {},
   "outputs": [
    {
     "data": {
      "text/plain": [
       "<lightfm.lightfm.LightFM at 0x7fcd9406df98>"
      ]
     },
     "execution_count": 9,
     "metadata": {},
     "output_type": "execute_result"
    }
   ],
   "source": [
    "#train model\n",
    "model.fit(data['train'], epochs=30, num_threads=2)"
   ]
  },
  {
   "cell_type": "code",
   "execution_count": 14,
   "metadata": {},
   "outputs": [],
   "source": [
    "def sample_recommendation(model, data, user_ids):\n",
    "    # number of users and movies in training data\n",
    "    n_users, n_items = data['train'].shape\n",
    "    #generate recommendations for each user we input\n",
    "    for user_id in user_ids:\n",
    "        #movies they  already like\n",
    "        known_positives = data['item_labels'][data['train'].tocsr()[user_id].indices]\n",
    "        #movies our model predicts they wil like\n",
    "        scores = model.predict(user_id,np.arange(n_items))\n",
    "        #rank them in order of most liked to least\n",
    "        top_items = data['item_labels'][np.argsort(-scores)]\n",
    "        #print out the results\n",
    "        print (\"User %s\" % user_id)\n",
    "        print(\"  Known positives:\")\n",
    "        \n",
    "        for x in known_positives[:3]:\n",
    "            print(\"      %s\" % x)\n",
    "        print(\"       Recommended\")\n",
    "        for x in top_items[:3]:\n",
    "            print(\"      %s\" % x)        "
   ]
  },
  {
   "cell_type": "code",
   "execution_count": 15,
   "metadata": {},
   "outputs": [
    {
     "name": "stdout",
     "output_type": "stream",
     "text": [
      "User 3\n",
      "  Known positives:\n",
      "      Seven (Se7en) (1995)\n",
      "      Contact (1997)\n",
      "      Starship Troopers (1997)\n",
      "       Recommended\n",
      "      Air Force One (1997)\n",
      "      Kiss the Girls (1997)\n",
      "      Contact (1997)\n",
      "User 25\n",
      "  Known positives:\n",
      "      Dead Man Walking (1995)\n",
      "      Star Wars (1977)\n",
      "      Fargo (1996)\n",
      "       Recommended\n",
      "      Contact (1997)\n",
      "      English Patient, The (1996)\n",
      "      Fargo (1996)\n",
      "User 450\n",
      "  Known positives:\n",
      "      Contact (1997)\n",
      "      George of the Jungle (1997)\n",
      "      Event Horizon (1997)\n",
      "       Recommended\n",
      "      Peacemaker, The (1997)\n",
      "      G.I. Jane (1997)\n",
      "      Devil's Advocate, The (1997)\n"
     ]
    }
   ],
   "source": [
    "sample_recommendation(model,data,[3,25,450])"
   ]
  }
 ],
 "metadata": {
  "kernelspec": {
   "display_name": "Python 3",
   "language": "python",
   "name": "python3"
  },
  "language_info": {
   "codemirror_mode": {
    "name": "ipython",
    "version": 3
   },
   "file_extension": ".py",
   "mimetype": "text/x-python",
   "name": "python",
   "nbconvert_exporter": "python",
   "pygments_lexer": "ipython3",
   "version": "3.7.1"
  }
 },
 "nbformat": 4,
 "nbformat_minor": 2
}
