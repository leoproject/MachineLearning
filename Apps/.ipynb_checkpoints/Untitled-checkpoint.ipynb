{
 "cells": [
  {
   "cell_type": "code",
   "execution_count": 3,
   "metadata": {},
   "outputs": [],
   "source": [
    "import numpy as np\n",
    "from functools import partial\n",
    "import PIL.Image\n",
    "import tensorflow as tf\n",
    "import requests \n",
    "import os \n",
    "import zipfile"
   ]
  },
  {
   "cell_type": "code",
   "execution_count": null,
   "metadata": {},
   "outputs": [],
   "source": [
    "def main():\n",
    "    #Step 1 - download google's pre-trained neural network\n",
    "    url = 'https://storage.googleapis.com/download.tensorflow.org/models/inception5h.zip'\n",
    "    data_dir = '../data/'\n",
    "    model_name = os.path.split(url)[-1]\n",
    "    local_zip_file = os.path.join(data_dir, model_name)\n",
    "    if not os.path.exists(local_zip_file):\n",
    "        # Download\n",
    "        model_url = requests.get(url)\n",
    "        with open(local_zip_file, 'wb') as output:\n",
    "            output.write(model_url.read())\n",
    "        # Extract\n",
    "        with zipfile.ZipFile(local_zip_file, 'r') as zip_ref:\n",
    "            zip_ref.extractall(data_dir)\n",
    "  \n",
    "    # start with a gray image with a little noise\n",
    "    img_noise = np.random.uniform(size=(224,224,3)) + 100.0\n",
    "  \n",
    "    model_fn = 'tensorflow_inception_graph.pb'\n",
    "    \n",
    "    #Step 2 - Creating Tensorflow session and loading the model\n",
    "    graph = tf.Graph()\n",
    "    sess = tf.InteractiveSession(graph=graph)\n",
    "    with tf.gfile.FastGFile(os.path.join(data_dir, model_fn), 'rb') as f:\n",
    "        graph_def = tf.GraphDef()\n",
    "        graph_def.ParseFromString(f.read())\n",
    "    t_input = tf.placeholder(np.float32, name='input') # define the input tensor\n",
    "    imagenet_mean = 117.0\n",
    "    t_preprocessed = tf.expand_dims(t_input-imagenet_mean, 0)\n",
    "    tf.import_graph_def(graph_def, {'input':t_preprocessed})\n",
    "    \n",
    "    layers = [op.name for op in graph.get_operations() if op.type=='Conv2D' and 'import/' in op.name]\n",
    "    feature_nums = [int(graph.get_tensor_by_name(name+':0').get_shape()[-1]) for name in layers]\n",
    "    \n",
    "    print('Number of layers', len(layers))\n",
    "    print('Total number of feature channels:', sum(feature_nums))"
   ]
  }
 ],
 "metadata": {
  "kernelspec": {
   "display_name": "Python 3",
   "language": "python",
   "name": "python3"
  },
  "language_info": {
   "codemirror_mode": {
    "name": "ipython",
    "version": 3
   },
   "file_extension": ".py",
   "mimetype": "text/x-python",
   "name": "python",
   "nbconvert_exporter": "python",
   "pygments_lexer": "ipython3",
   "version": "3.7.1"
  }
 },
 "nbformat": 4,
 "nbformat_minor": 2
}
